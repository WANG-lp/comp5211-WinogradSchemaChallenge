{
 "cells": [
  {
   "cell_type": "code",
   "execution_count": 10,
   "metadata": {
    "collapsed": true
   },
   "outputs": [],
   "source": [
    "from xml.dom import minidom"
   ]
  },
  {
   "cell_type": "code",
   "execution_count": 11,
   "metadata": {
    "collapsed": true
   },
   "outputs": [],
   "source": [
    "xmldoc = minidom.parse('../datasets/WSCollection.xml')"
   ]
  },
  {
   "cell_type": "code",
   "execution_count": 12,
   "metadata": {
    "collapsed": false
   },
   "outputs": [],
   "source": [
    "schemas = xmldoc.getElementsByTagName('schema')"
   ]
  },
  {
   "cell_type": "code",
   "execution_count": 13,
   "metadata": {
    "collapsed": true
   },
   "outputs": [],
   "source": [
    "def getStruct(s):\n",
    "    text = {}\n",
    "    all_t = s.getElementsByTagName('text')\n",
    "    text['txt1'] = all_t[0].getElementsByTagName('txt1')[0].firstChild.data.strip()\n",
    "    text['pron'] = all_t[0].getElementsByTagName('pron')[0].firstChild.data.strip()\n",
    "    text['txt2'] = all_t[0].getElementsByTagName('txt2')[0].firstChild.data.strip()\n",
    "    quote = {}\n",
    "    quote_a = s.getElementsByTagName('quote')\n",
    "    q1_c = quote_a[0].getElementsByTagName('quote1')\n",
    "    if len(q1_c) > 0 and q1_c[0].hasChildNodes():\n",
    "        quote['quote1'] = q1_c[0].firstChild.data.strip()\n",
    "    else:\n",
    "        quote['quote1'] = None\n",
    "    \n",
    "    q2_c = quote_a[0].getElementsByTagName('quote2')\n",
    "    if len(q2_c) > 0 and q2_c[0].hasChildNodes():\n",
    "        quote['quote2'] = q2_c[0].firstChild.data.strip()\n",
    "    else:\n",
    "        quote['quote2'] = None\n",
    "    p_c = quote_a[0].getElementsByTagName('pron')\n",
    "    if len(p_c) > 0 and p_c[0].hasChildNodes():\n",
    "        quote['pron'] = p_c[0].firstChild.data.strip()\n",
    "    else:\n",
    "        quote['pron'] = None\n",
    "    \n",
    "    answers = []\n",
    "    ans_list = s.getElementsByTagName('answers')[0].getElementsByTagName('answer')\n",
    "    for ans in ans_list:\n",
    "        answers.append(ans.firstChild.data.strip())\n",
    "    \n",
    "    correct_ans = None\n",
    "    c_ans = s.getElementsByTagName('correctAnswer')\n",
    "    if len(c_ans) > 0:\n",
    "        correct_ans = c_ans[0].firstChild.data.split('.')[0].strip()\n",
    "    return [text, quote, answers, correct_ans]\n",
    "def toStruct(schemas):\n",
    "    questions = []\n",
    "    for s in schemas:\n",
    "        questions.append(getStruct(s))\n",
    "    return questions\n",
    "        "
   ]
  },
  {
   "cell_type": "code",
   "execution_count": 14,
   "metadata": {
    "collapsed": false,
    "scrolled": true
   },
   "outputs": [
    {
     "name": "stdout",
     "output_type": "stream",
     "text": [
      "273\n"
     ]
    }
   ],
   "source": [
    "ques = toStruct(schemas)\n",
    "print len(ques)\n"
   ]
  },
  {
   "cell_type": "code",
   "execution_count": 15,
   "metadata": {
    "collapsed": true
   },
   "outputs": [],
   "source": [
    "def randomSolver(ques):\n",
    "    return u'A'"
   ]
  },
  {
   "cell_type": "code",
   "execution_count": 16,
   "metadata": {
    "collapsed": false
   },
   "outputs": [
    {
     "name": "stdout",
     "output_type": "stream",
     "text": [
      "137 273 50.1831501832\n"
     ]
    }
   ],
   "source": [
    "all_q = len(ques)\n",
    "correct = 0\n",
    "for q in ques:\n",
    "    if(randomSolver(q) == q[3]):\n",
    "        correct +=1\n",
    "print correct, all_q, correct*100.0/all_q"
   ]
  },
  {
   "cell_type": "code",
   "execution_count": 17,
   "metadata": {
    "collapsed": false
   },
   "outputs": [
    {
     "name": "stdout",
     "output_type": "stream",
     "text": [
      "A\n"
     ]
    }
   ],
   "source": [
    "print ques[0][3]"
   ]
  },
  {
   "cell_type": "code",
   "execution_count": 18,
   "metadata": {
    "collapsed": true
   },
   "outputs": [],
   "source": [
    "from nltk.tokenize import word_tokenize"
   ]
  },
  {
   "cell_type": "code",
   "execution_count": 19,
   "metadata": {
    "collapsed": true
   },
   "outputs": [],
   "source": [
    "text = word_tokenize(\"The city councilmen refused the demonstrators a permit because they feared violence.\")"
   ]
  },
  {
   "cell_type": "code",
   "execution_count": 20,
   "metadata": {
    "collapsed": false
   },
   "outputs": [],
   "source": [
    "import nltk"
   ]
  },
  {
   "cell_type": "code",
   "execution_count": 21,
   "metadata": {
    "collapsed": false
   },
   "outputs": [
    {
     "data": {
      "text/plain": [
       "[('The', 'DT'),\n",
       " ('city', 'NN'),\n",
       " ('councilmen', 'NNS'),\n",
       " ('refused', 'VBD'),\n",
       " ('the', 'DT'),\n",
       " ('demonstrators', 'NNS'),\n",
       " ('a', 'DT'),\n",
       " ('permit', 'NN'),\n",
       " ('because', 'IN'),\n",
       " ('they', 'PRP'),\n",
       " ('feared', 'VBD'),\n",
       " ('violence', 'NN'),\n",
       " ('.', '.')]"
      ]
     },
     "execution_count": 21,
     "metadata": {},
     "output_type": "execute_result"
    }
   ],
   "source": [
    " nltk.pos_tag(text)"
   ]
  },
  {
   "cell_type": "code",
   "execution_count": 44,
   "metadata": {
    "collapsed": false
   },
   "outputs": [
    {
     "name": "stdout",
     "output_type": "stream",
     "text": [
      "The trophy doesn't fit into the brown suitcase because it is too small.\n",
      "[(u'The', 'DT'), (u'trophy', 'NN'), (u'does', 'VBZ'), (u\"n't\", 'RB'), (u'fit', 'VB'), (u'into', 'IN'), (u'the', 'DT'), (u'brown', 'JJ'), (u'suitcase', 'NN'), (u'because', 'IN'), (u'it', 'PRP'), (u'is', 'VBZ'), (u'too', 'RB'), (u'small', 'JJ'), (u'.', '.')]\n"
     ]
    }
   ],
   "source": [
    "q = ques[3]\n",
    "sentence = q[0]['txt1'] + \" \" + q[0]['pron'] + \" \" + q[0]['txt2']\n",
    "#sentence = \"The trophy doesn't saw the brown suitcase because\"\n",
    "tag_tuple = nltk.pos_tag(word_tokenize(sentence))\n",
    "print sentence\n",
    "print tag_tuple"
   ]
  },
  {
   "cell_type": "code",
   "execution_count": 31,
   "metadata": {
    "collapsed": false
   },
   "outputs": [
    {
     "data": {
      "text/plain": [
       "'DT'"
      ]
     },
     "execution_count": 31,
     "metadata": {},
     "output_type": "execute_result"
    }
   ],
   "source": [
    "tag_tuple[0][1]"
   ]
  },
  {
   "cell_type": "code",
   "execution_count": 45,
   "metadata": {
    "collapsed": false
   },
   "outputs": [
    {
     "name": "stdout",
     "output_type": "stream",
     "text": [
      "[{'pron': u'she', 'txt1': u'Joan made sure to thank Susan for all the help', 'txt2': u'had recieved.'}, {'quote2': u'had received', 'pron': u'she', 'quote1': None}, [u'Joan', u'Susan'], u'A']\n"
     ]
    }
   ],
   "source": [
    "print ques[4]"
   ]
  },
  {
   "cell_type": "code",
   "execution_count": null,
   "metadata": {
    "collapsed": true
   },
   "outputs": [],
   "source": []
  }
 ],
 "metadata": {
  "kernelspec": {
   "display_name": "Python 2",
   "language": "python",
   "name": "python2"
  },
  "language_info": {
   "codemirror_mode": {
    "name": "ipython",
    "version": 2
   },
   "file_extension": ".py",
   "mimetype": "text/x-python",
   "name": "python",
   "nbconvert_exporter": "python",
   "pygments_lexer": "ipython2",
   "version": "2.7.12"
  }
 },
 "nbformat": 4,
 "nbformat_minor": 1
}
