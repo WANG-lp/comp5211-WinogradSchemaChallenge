{
 "cells": [
  {
   "cell_type": "code",
   "execution_count": 1,
   "metadata": {
    "collapsed": true
   },
   "outputs": [],
   "source": [
    "from xml.dom import minidom"
   ]
  },
  {
   "cell_type": "code",
   "execution_count": 2,
   "metadata": {
    "collapsed": true
   },
   "outputs": [],
   "source": [
    "xmldoc = minidom.parse('../datasets/WSCollection.xml')"
   ]
  },
  {
   "cell_type": "code",
   "execution_count": 3,
   "metadata": {
    "collapsed": false
   },
   "outputs": [],
   "source": [
    "schemas = xmldoc.getElementsByTagName('schema')"
   ]
  },
  {
   "cell_type": "code",
   "execution_count": 4,
   "metadata": {
    "collapsed": true
   },
   "outputs": [],
   "source": [
    "def getStruct(s):\n",
    "    text = {}\n",
    "    all_t = s.getElementsByTagName('text')\n",
    "    text['txt1'] = all_t[0].getElementsByTagName('txt1')[0].firstChild.data.strip()\n",
    "    text['pron'] = all_t[0].getElementsByTagName('pron')[0].firstChild.data.strip()\n",
    "    text['txt2'] = all_t[0].getElementsByTagName('txt2')[0].firstChild.data.strip()\n",
    "    quote = {}\n",
    "    quote_a = s.getElementsByTagName('quote')\n",
    "    q1_c = quote_a[0].getElementsByTagName('quote1')\n",
    "    if len(q1_c) > 0 and q1_c[0].hasChildNodes():\n",
    "        quote['quote1'] = q1_c[0].firstChild.data.strip()\n",
    "    else:\n",
    "        quote['quote1'] = None\n",
    "    \n",
    "    q2_c = quote_a[0].getElementsByTagName('quote2')\n",
    "    if len(q2_c) > 0 and q2_c[0].hasChildNodes():\n",
    "        quote['quote2'] = q2_c[0].firstChild.data.strip()\n",
    "    else:\n",
    "        quote['quote2'] = None\n",
    "    p_c = quote_a[0].getElementsByTagName('pron')\n",
    "    if len(p_c) > 0 and p_c[0].hasChildNodes():\n",
    "        quote['pron'] = p_c[0].firstChild.data.strip()\n",
    "    else:\n",
    "        quote['pron'] = None\n",
    "    \n",
    "    answers = []\n",
    "    ans_list = s.getElementsByTagName('answers')[0].getElementsByTagName('answer')\n",
    "    for ans in ans_list:\n",
    "        answers.append(ans.firstChild.data.strip())\n",
    "    \n",
    "    correct_ans = None\n",
    "    c_ans = s.getElementsByTagName('correctAnswer')\n",
    "    if len(c_ans) > 0:\n",
    "        correct_ans = c_ans[0].firstChild.data.split('.')[0].strip()\n",
    "    return [text, quote, answers, correct_ans]\n",
    "def toStruct(schemas):\n",
    "    questions = []\n",
    "    for s in schemas:\n",
    "        questions.append(getStruct(s))\n",
    "    return questions\n",
    "        "
   ]
  },
  {
   "cell_type": "code",
   "execution_count": 5,
   "metadata": {
    "collapsed": false,
    "scrolled": true
   },
   "outputs": [
    {
     "name": "stdout",
     "output_type": "stream",
     "text": [
      "273\n"
     ]
    }
   ],
   "source": [
    "ques = toStruct(schemas)\n",
    "print len(ques)\n"
   ]
  },
  {
   "cell_type": "code",
   "execution_count": 6,
   "metadata": {
    "collapsed": true
   },
   "outputs": [],
   "source": [
    "def randomSolver(ques):\n",
    "    return u'A'"
   ]
  },
  {
   "cell_type": "code",
   "execution_count": 7,
   "metadata": {
    "collapsed": false
   },
   "outputs": [
    {
     "name": "stdout",
     "output_type": "stream",
     "text": [
      "137 273 50.1831501832\n"
     ]
    }
   ],
   "source": [
    "all_q = len(ques)\n",
    "correct = 0\n",
    "for q in ques:\n",
    "    if(randomSolver(q) == q[3]):\n",
    "        correct +=1\n",
    "print correct, all_q, correct*100.0/all_q"
   ]
  },
  {
   "cell_type": "code",
   "execution_count": 8,
   "metadata": {
    "collapsed": false
   },
   "outputs": [
    {
     "name": "stdout",
     "output_type": "stream",
     "text": [
      "A\n"
     ]
    }
   ],
   "source": [
    "print ques[0][3]"
   ]
  },
  {
   "cell_type": "code",
   "execution_count": 9,
   "metadata": {
    "collapsed": true
   },
   "outputs": [],
   "source": [
    "from nltk.tokenize import word_tokenize"
   ]
  },
  {
   "cell_type": "code",
   "execution_count": 10,
   "metadata": {
    "collapsed": true
   },
   "outputs": [],
   "source": [
    "text = word_tokenize(\"The city councilmen refused the demonstrators a permit because they feared violence.\")"
   ]
  },
  {
   "cell_type": "code",
   "execution_count": 11,
   "metadata": {
    "collapsed": false
   },
   "outputs": [],
   "source": [
    "import nltk"
   ]
  },
  {
   "cell_type": "code",
   "execution_count": 12,
   "metadata": {
    "collapsed": false
   },
   "outputs": [
    {
     "data": {
      "text/plain": [
       "[('The', 'DT'),\n",
       " ('city', 'NN'),\n",
       " ('councilmen', 'NNS'),\n",
       " ('refused', 'VBD'),\n",
       " ('the', 'DT'),\n",
       " ('demonstrators', 'NNS'),\n",
       " ('a', 'DT'),\n",
       " ('permit', 'NN'),\n",
       " ('because', 'IN'),\n",
       " ('they', 'PRP'),\n",
       " ('feared', 'VBD'),\n",
       " ('violence', 'NN'),\n",
       " ('.', '.')]"
      ]
     },
     "execution_count": 12,
     "metadata": {},
     "output_type": "execute_result"
    }
   ],
   "source": [
    " nltk.pos_tag(text)"
   ]
  },
  {
   "cell_type": "code",
   "execution_count": 13,
   "metadata": {
    "collapsed": false
   },
   "outputs": [
    {
     "name": "stdout",
     "output_type": "stream",
     "text": [
      "Paul tried to call George on the phone, but he wasn't successful.\n",
      "[(u'Paul', 'NNP'), (u'tried', 'VBD'), (u'to', 'TO'), (u'call', 'VB'), (u'George', 'NNP'), (u'on', 'IN'), (u'the', 'DT'), (u'phone', 'NN'), (u',', ','), (u'but', 'CC'), (u'he', 'PRP'), (u'was', 'VBD'), (u\"n't\", 'RB'), (u'successful', 'JJ'), (u'.', '.')]\n",
      "[(u'A', 'DT')]\n"
     ]
    }
   ],
   "source": [
    "q = ques[6]\n",
    "sentence = q[0]['txt1'] + \" \" + q[0]['pron'] + \" \" + q[0]['txt2']\n",
    "#sentence = \"The trophy doesn't saw the brown suitcase because\"\n",
    "tag_tuple = nltk.pos_tag(word_tokenize(sentence))\n",
    "print sentence\n",
    "print tag_tuple\n",
    "sentence = q[3]\n",
    "#sentence = \"The trophy doesn't saw the brown suitcase because\"\n",
    "tag_tuple = nltk.pos_tag(word_tokenize(sentence))\n",
    "print tag_tuple"
   ]
  },
  {
   "cell_type": "code",
   "execution_count": 14,
   "metadata": {
    "collapsed": false
   },
   "outputs": [
    {
     "data": {
      "text/plain": [
       "'DT'"
      ]
     },
     "execution_count": 14,
     "metadata": {},
     "output_type": "execute_result"
    }
   ],
   "source": [
    "tag_tuple[0][1]"
   ]
  },
  {
   "cell_type": "code",
   "execution_count": 15,
   "metadata": {
    "collapsed": false
   },
   "outputs": [
    {
     "name": "stdout",
     "output_type": "stream",
     "text": [
      "[{'pron': u'he', 'txt1': u'Paul tried to call George on the phone, but', 'txt2': u\"wasn't successful.\"}, {'quote2': u\"wasn't successful.\", 'pron': u'he', 'quote1': None}, [u'Paul', u'George'], u'A']\n"
     ]
    }
   ],
   "source": [
    "print ques[6]"
   ]
  },
  {
   "cell_type": "code",
   "execution_count": 16,
   "metadata": {
    "collapsed": false
   },
   "outputs": [],
   "source": [
    "from src.common import *\n",
    "from src.nltk_helper import *\n",
    "from src.kb import WordParser\n"
   ]
  },
  {
   "cell_type": "code",
   "execution_count": 17,
   "metadata": {
    "collapsed": false
   },
   "outputs": [],
   "source": [
    "tagProcessor = TagProcessor()\n",
    "sentenceParser = SentenceParser()\n",
    "vbParser = WordParser(kb_dir='./KB/')"
   ]
  },
  {
   "cell_type": "code",
   "execution_count": 18,
   "metadata": {
    "collapsed": false
   },
   "outputs": [],
   "source": [
    "def find_verbs(q):\n",
    "    res = []\n",
    "    txt1 = q[0]['txt1']\n",
    "    txt1_tags = sentenceParser.makeTags(txt1)\n",
    "    for tag in txt1_tags:\n",
    "        if tagProcessor.isVerb(tag):\n",
    "            res.append(tag[0])\n",
    "    txt1 = q[0]['txt2']\n",
    "    txt1_tags = sentenceParser.makeTags(txt1)\n",
    "    for tag in txt1_tags:\n",
    "        if tagProcessor.isVerb(tag):\n",
    "            res.append(tag[0])\n",
    "    return res\n",
    "def find_adjs(q):\n",
    "    res = []\n",
    "    txt1 = q[0]['txt1']\n",
    "    txt1_tags = sentenceParser.makeTags(txt1)\n",
    "    for tag in txt1_tags:\n",
    "        if tagProcessor.isAdj(tag):\n",
    "            res.append(tag[0])\n",
    "    txt1 = q[0]['txt2']\n",
    "    txt1_tags = sentenceParser.makeTags(txt1)\n",
    "    for tag in txt1_tags:\n",
    "        if tagProcessor.isAdj(tag):\n",
    "            res.append(tag[0])\n",
    "    return res"
   ]
  },
  {
   "cell_type": "code",
   "execution_count": 19,
   "metadata": {
    "collapsed": false
   },
   "outputs": [
    {
     "name": "stdout",
     "output_type": "stream",
     "text": [
      "[u'tried', u'call', u'was']\n",
      "[u'successful']\n"
     ]
    }
   ],
   "source": [
    "print find_verbs(ques[6])\n",
    "print find_adjs(ques[6])"
   ]
  },
  {
   "cell_type": "code",
   "execution_count": 20,
   "metadata": {
    "collapsed": false
   },
   "outputs": [
    {
     "name": "stdout",
     "output_type": "stream",
     "text": [
      "950\n",
      "243\n",
      "[u'refused', u'feared', u'refused', u'advocated', u'does', u'fit', u'is', u'does', u'fit', u'is', u'made', u'thank', u'had', u'received', u'made', u'thank', u'had', u'given', u'tried', u'call', u'was', u'tried', u'call', u'was', u'asked', u'was', u'repeat', u'asked', u'was', u'answer', u'zoomed', u'was', u'going', u'zoomed', u'was', u'going', u'felt', u'vindicated', u'revealed', u'was', u'felt', u'crushed', u'revealed', u'was', u'lift', u'was', u'lift', u'was', u'crashed', u'was', u'made', u'crashed', u'was', u'made', u'see', u'is', u'see', u'is', u'threw', u'reached', u'threw', u'reached', u'ran', u'beat', u'had', u'ran', u'beat', u'had', u'rolled', u'was', u'anchored', u'rolled', u'was', u'was', u'did', u'look', u'was', u'did', u'look', u'did', u'had', u'studied', u'did', u'had', u'studied', u'arrived', u'were', u'coming', u'arrived', u'were', u'coming', u'was', u'upset', u'had', u'bought', u'did', u'was', u'upset', u'had', u'sold', u'did', u'yelled', u'was', u'comforted', u'was', u'had', u'been', u'placed', u'had', u'be', u'moved', u'had', u'been', u'placed', u'had', u'be', u'moved', u'envies', u'is', u'is', u'were', u'bullying', u'punished', u'were', u'bullying', u'rescued', u'poured', u'was', u'poured', u'was', u'knows', u'is', u'knows', u'is', u'explained', u'convince', u'explained', u'understand', u'knew', u'had', u'been', u'told', u'knew', u'had', u'been', u'told', u'beat', u'is', u'beat', u'is', u'shows', u'is', u'shows', u'is', u'is', u'see', u'is', u'see', u'is', u'clogged', u'has', u'be', u'cleaned', u'is', u'clogged', u'has', u'be', u'removed', u'started', u'needed', u'catch', u'was', u'was', u'worked', u'started', u'needed', u'catch', u'was', u'was', u'delayed', u'worked', u'is', u'see', u'is', u'see', u'broadcast', u'came', u'hear', u'broadcast', u'came', u'hear', u'started', u'falling', u'continued', u'started', u'falling', u'continued', u'used', u'clean', u'put', u'used', u'clean', u'put', u'asked', u'had', u'forgotten', u'asked', u'had', u'forgotten', u'took', u'bottle', u'be', u'took', u'bottle', u'be', u'put', u'was', u'put', u'was', u\"'m\", u'show', u'is', u\"'m\", u'show', u'is', u'paid', u'is', u'paid', u'is', u'paid', u'acts', u'happened', u'is', u'paid', u'acts', u'happened', u'is', u'was', u'playing', u'was', u'had', u'had', u'have', u'won', u'was', u'playing', u'was', u'had', u'had', u'have', u'lost', u'leave', u'arrives', u'replace', u'had', u'left', u'be', u'gone', u'leave', u'arrives', u'replace', u'had', u'left', u'be', u'has', u'succeeded', u'fooling', u'have', u'gotten', u'has', u'succeeded', u'fooling', u'have', u'lost', u'was', u'was', u'sitting', u'got', u'moved', u'was', u'was', u'was', u'sitting', u'got', u'moved', u'was', u'was', u'lying', u'waiting', u'was', u'was', u'lying', u'waiting', u'was', u'gave', u'is', u'gave', u'is', u'tried', u'stop', u'chatting', u'leaving', u'wonder', u'was', u'behaving', u'tried', u'stop', u'barking', u'leaving', u'wonder', u'was', u'behaving', u'saw', u'yelling', u'do', u'know', u'was', u'looked', u'saw', u'yelling', u'do', u'know', u'was', u'looked', u'was', u'was', u'was', u'trying', u'open', u'had', u'filled', u'chewing', u'get', u'was', u'trying', u'open', u'had', u'filled', u'chewing', u'get', u'chased', u'ran', u'waited', u'chased', u'ran', u'waited', u'fell', u'crashed', u'have', u'get', u'removed', u'fell', u'crashed', u'have', u'get', u'repaired', u'walked', u'stabbed', u'was', u'taken', u'walked', u'stabbed', u'was', u'taken', u'was', u'doing', u'heard', u'was', u'was', u'doing', u'heard', u'was', u'annoying', u'was', u'jogging', u'saw', u'juggling', u'was', u'was', u'jogging', u'saw', u'juggling', u'was', u'collapsed', u'saw', u'coming', u'help', u'was', u'collapsed', u'saw', u'coming', u'help', u'was', u'are', u'are', u'are', u'are', u'are', u'are', u'told', u'included', u'have', u'been', u'told', u'included', u'have', u'been', u'has', u'sold', u'bought', u'willbe', u'moving', u'has', u'sold', u'bought', u'willbe', u'moving', u'start', u'read', u'put', u'are', u'gripped', u'writes', u'start', u'read', u'put', u'are', u'writes', u'took', u'played', u'had', u'was', u'took', u'played', u'loved', u'was', u'pulled', u'was', u'broken', u'had', u'stand', u'pulled', u'was', u'broken', u'had', u'sing', u'was', u'raining', u'carried', u'keep', u'was', u'raining', u'carried', u'keep', u'borrowed', u'needs', u'is', u'working', u'reads', u'gets', u'borrowed', u'needs', u'is', u'working', u'writes', u'gets', u'built', u'put', u'knocked', u'built', u'put', u'knocked', u'knocked', u'was', u'was', u'disappointed', u'knocked', u'was', u'was', u'knocked', u'answered', u'invited', u'come', u'knocked', u'answered', u'invited', u'come', u'took', u'was', u'speak', u'took', u'was', u'known', u'speak', u'was', u'blocked', u'use', u'was', u'blocked', u'reach', u'was', u'covered', u'started', u'was', u'was', u'covered', u'started', u'was', u'gone', u'went', u'had', u'been', u'seen', u'was', u'swim', u'went', u'had', u'been', u'seen', u'was', u'swim', u'tried', u'paint', u'ended', u'looking', u'tried', u'paint', u'ended', u'looking', u'tucked', u'work', u'tucked', u'sleep', u'had', u'were', u'prepared', u'had', u'were', u'visited', u'had', u'been', u'travelling', u'visited', u'had', u'been', u'was', u'influenced', u'lived', u'was', u'influenced', u'lived', u'cut', u'tree', u'is', u'cut', u'tree', u'is', u'are', u'getting', u'attacking', u'haveto', u'kill', u'are', u'getting', u'attacking', u'haveto', u'are', u'getting', u'attacking', u'have', u'gotten', u'are', u'getting', u'attacking', u'have', u'gotten', u'Fred', u'covered', u'was', u'blowing', u'opened', u'stopped', u'Fred', u'covered', u'was', u'blowing', u'lowered', u'stopped', u'used', u'be', u'named', u'changed', u'Tina', u'figured', u'was', u'pronounce', u'used', u'be', u'named', u'changed', u'Tina', u'figured', u'was', u'pronounce', u'watched', u'went', u'buy', u'got', u'watched', u'went', u'buy', u'got', u'was', u'supposed', u'run', u'put', u'wanted', u'watch', u'turned', u'be', u'hechanged', u'turned', u'was', u'supposed', u'run', u'put', u'wanted', u'watch', u'turned', u'be', u'hechanged', u'turned', u'is', u'remembers', u'is', u'is', u'remembers', u'was', u'is', u'remembers', u'saw', u'was', u'is', u'remembers', u'saw', u'was', u'declared', u'was', u'equipped', u'were', u'defeated', u'declared', u'was', u'equipped', u'were', u'is', u'had', u'get', u'is', u'swimming', u'had', u'get', u'have', u'concluded', u'lived', u'hunted', u'have', u'concluded', u'lived', u'hunted', u'are', u'studying', u'have', u'recentlybeen', u'found', u'began', u'are', u'studying', u'have', u'recentlybeen', u'found', u'appeared', u'interviewed', u'were', u'lasted', u'interviewed', u'were', u'lasted', u'arrested', u'were', u'trying', u'stop', u'arrested', u'were', u'trying', u'run', u'put', u'has', u'put', u'has', u'broke', u\"'s\", u'walking', u'be', u'broke', u\"'s\", u'walking', u'be', u'got', u'were', u'was', u'were', u'got', u'were', u'was', u'were', u'loved', u'liked', u'make', u'loved', u'liked', u'make', u'had', u'hoped', u'place', u'were', u'had', u'hoped', u'place', u'were', u'stuck', u'pulled', u'left', u'stuck', u'pulled', u'had', u'find', u'tried', u'using', u'stir', u'turned', u'be', u'got', u'find', u'tried', u'using', u'stir', u'turned', u'be', u'got', u'follows', u'follows', u'fit', u'is', u'fit', u'is', u'was', u'trade', u'thinks', u'dowdy', u'was', u'trade', u'thinks', u'looks', u'hired', u'take', u'hired', u'Bill', u'take', u'promised', u'leave', u'ordered', u'leave', u'faced', u'faced', u'had', u'died', u'had', u'been', u'managed', u'had', u'died', u'had', u'been', u'taken', u'knocked', u'did', u'get', u'knocked', u'did', u'answer', u'paid', u'received', u'paid', u'delivered', u'did', u'get', u'had', u'cut', u'stopped', u'counted', u'ten', u'did', u'get', u'had', u'cut', u'stopped', u'apologized', u'signaled', u'gestured', u'signaled', u'gestured', u'took', u'claimed', u'was', u'took', u'claimed', u'was', u'said', u'moved', u'said', u'took', u'passed', u'see', u'passed', u'see', u'gave', u'have', u'drive', u'gave', u'have', u'walk', u'passed', u'was', u'passed', u'was', u'passed', u'was', u'passed', u'was', u'lifted', u'lifted', u'Stretching', u'smiled', u'Patting', u'smiled', u'cried', u'accept', u'cried', u'spoke', u'breaking', u'spoke', u'breaking', u'dropped', u'giggled', u'gave', u'dropped', u'giggled', u'gave', u'carried', u'ached', u'carried', u'dangled', u'carried', u'sleeping', u'carried', u'sleeping', u'held', u'held', u'came', u'found', u'having', u'were', u'came', u'found', u'having', u'were', u'embarrassed', u'informed', u'had', u'retired', u'presented', u'informed', u'had', u'presented', u'had', u'stop', u'toying', u'is', u'had', u'stop', u'toying', u'is', u'got', u'gave', u'was', u'see', u'got', u'gave', u'was', u'see', u'got', u'gave', u'was', u'see', u'gave', u'was', u'gave', u'was', u'tried', u'paint', u'came', u'looking', u'tried', u'paint', u'came', u'looking', u'asked', u'was', u'refused', u'asked', u'refused', u'ceded', u'was', u'ceded', u'was', u'did', u'pass', u'was', u'did', u'pass', u'was', u'put', u'wing', u'put', u'fired', u'stand', u'fired', u'fired', u'slept', u'fired', u'stand', u'believed', u'suspected', u'had', u'stolen', u'believed', u'regretted', u'had', u'stolen']\n"
     ]
    }
   ],
   "source": [
    "verb_list = []\n",
    "adj_list = []\n",
    "\n",
    "for q in ques:\n",
    "    verb_list += find_verbs(q)\n",
    "    adj_list += find_adjs(q)\n",
    "print len(verb_list)\n",
    "print len(adj_list)\n",
    "\n",
    "print verb_list"
   ]
  },
  {
   "cell_type": "code",
   "execution_count": 21,
   "metadata": {
    "collapsed": false
   },
   "outputs": [
    {
     "name": "stdout",
     "output_type": "stream",
     "text": [
      "282\n",
      "124\n",
      "[u'raining', u'walking', u'breaking', u'managed', u'barking', u'cried', u'show', u'liked', u'trade', u'known', u'sleep', u'looks', u'giggled', u'suspected', u'hunted', u'help', u'recentlybeen', u'trying', u'thank', u'fit', u'disappointed', u'writes', u'had', u'knew', u'haveto', u'answered', u'going', u'chewing', u'equipped', u'covered', u'travelling', u'has', u'happened', u'borrowed', u'do', u'ached', u'tucked', u'sitting', u'beat', u'Stretching', u'stop', u'crushed', u'fooling', u'know', u'lifted', u'using', u'stabbed', u'walk', u'continued', u'paint', u'believed', u'gets', u'counted', u'lost', u'ended', u'did', u'follows', u'having', u'watched', u'make', u'leave', u'stopped', u'toying', u'gestured', u'clean', u'went', u'told', u'repaired', u'concluded', u'kill', u'fired', u'ten', u'doing', u'arrested', u'pronounce', u'arrives', u'anchored', u'see', u'used', u'juggling', u'Tina', u'dropped', u'sleeping', u'thinks', u'feared', u'delivered', u'said', u'dangled', u'won', u'dowdy', u'stuck', u'signaled', u'find', u'looking', u'opened', u'waiting', u'does', u'apologized', u'zoomed', u'got', u'falling', u'blocked', u'filled', u'shows', u'be', u'vindicated', u'run', u'rolled', u'sold', u'Bill', u'use', u'refused', u'broken', u'cut', u'found', u'put', u'sing', u'regretted', u'prepared', u'come', u'envies', u'received', u'figured', u'yelling', u'getting', u'invited', u'studied', u'leaving', u'jogging', u'hired', u'place', u'stand', u'forgotten', u'swim', u'moving', u'clogged', u'asked', u'waited', u'swimming', u'named', u'slept', u'retired', u'smiled', u'appeared', u'informed', u'explained', u'declared', u'comforted', u'replace', u'embarrassed', u'reached', u'Fred', u'open', u'speak', u'behaving', u'bought', u'given', u'wanted', u'spoke', u'working', u'start', u'Patting', u'chased', u'been', u'needed', u'poured', u'call', u'passed', u'taken', u'punished', u'was', u'threw', u'faced', u'lived', u'knows', u'chatting', u'started', u'turned', u'collapsed', u'stolen', u'delayed', u'hechanged', u'hoped', u'broadcast', u'lift', u'hear', u'accept', u'broke', u'catch', u'willbe', u'worked', u'removed', u'carried', u'loved', u'made', u'presented', u'look', u'gotten', u'work', u'tree', u'placed', u'convince', u'supposed', u'were', u'knocked', u'visited', u'gave', u'remembers', u'yelled', u'gone', u'changed', u'ordered', u'played', u'ran', u'is', u'pass', u'moved', u'defeated', u'drive', u'heard', u'reads', u'buy', u'held', u'promised', u'have', u'cleaned', u'claimed', u'seen', u'annoying', u'saw', u'are', u'influenced', u'needs', u'built', u'interviewed', u'studying', u'began', u'acts', u'read', u'take', u'get', u'answer', u'wonder', u'stir', u'repeat', u\"'s\", u'tried', u'wing', u'watch', u'felt', u'reach', u'paid', u'took', u'bullying', u'crashed', u'fell', u'arrived', u'ceded', u'blowing', u'coming', u'included', u\"'m\", u'revealed', u'died', u'keep', u'gripped', u'advocated', u'succeeded', u'rescued', u'upset', u'lasted', u'walked', u'attacking', u'looked', u'lowered', u'lying', u'bottle', u'understand', u'pulled', u'playing', u'came', u'left']\n"
     ]
    }
   ],
   "source": [
    "verb_list = list(set(verb_list))\n",
    "adj_list = list(set(adj_list))\n",
    "\n",
    "print len(verb_list)\n",
    "print len(adj_list)\n",
    "print verb_list"
   ]
  },
  {
   "cell_type": "code",
   "execution_count": 22,
   "metadata": {
    "collapsed": true
   },
   "outputs": [],
   "source": [
    "with open('./KB/verb_list.txt', 'wb') as f:\n",
    "    for e in verb_list:\n",
    "        f.write(e + '\\n')\n",
    "with open('./KB/adj_list.txt', 'wb') as f:\n",
    "    for e in adj_list:\n",
    "        f.write(e + '\\n')\n"
   ]
  },
  {
   "cell_type": "code",
   "execution_count": 23,
   "metadata": {
    "collapsed": false
   },
   "outputs": [
    {
     "data": {
      "text/plain": [
       "[{'pron': u'they',\n",
       "  'txt1': u'The city councilmen refused the demonstrators a permit because',\n",
       "  'txt2': u'feared violence.'},\n",
       " {'pron': u'they', 'quote1': u'', 'quote2': u'feared violence'},\n",
       " [u'The city councilmen', u'The demonstrators'],\n",
       " u'A']"
      ]
     },
     "execution_count": 23,
     "metadata": {},
     "output_type": "execute_result"
    }
   ],
   "source": [
    "ques[0]"
   ]
  },
  {
   "cell_type": "code",
   "execution_count": null,
   "metadata": {
    "collapsed": true
   },
   "outputs": [],
   "source": []
  }
 ],
 "metadata": {
  "kernelspec": {
   "display_name": "Python 2",
   "language": "python",
   "name": "python2"
  },
  "language_info": {
   "codemirror_mode": {
    "name": "ipython",
    "version": 2
   },
   "file_extension": ".py",
   "mimetype": "text/x-python",
   "name": "python",
   "nbconvert_exporter": "python",
   "pygments_lexer": "ipython2",
   "version": "2.7.12"
  }
 },
 "nbformat": 4,
 "nbformat_minor": 1
}
